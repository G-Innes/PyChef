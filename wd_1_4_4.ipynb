{
  "nbformat": 4,
  "nbformat_minor": 0,
  "metadata": {
    "colab": {
      "provenance": []
    },
    "kernelspec": {
      "name": "python3",
      "display_name": "Python 3"
    },
    "language_info": {
      "name": "python"
    }
  },
  "cells": [
    {
      "cell_type": "markdown",
      "source": [
        "# Module 1: Fundamentals of Programming & Computer Science\n",
        "# Sprint 4: Fundamentals of Computer Science I\n",
        "# Part 4: Capstone Project\n",
        "\n",
        "<br>\n",
        "\n",
        "Welcome to the first capstone project! \n",
        "\n",
        "Capstone projects are a way for you to utilize everything that you have learned so far to showcase your skills and to build something unique! The project is deliberately open-ended, allowing every learner to work on what interests them the most. It is extremely similar to personal projects that many developers like to work on outside of their main work. Personal projects are a great way to demonstrate that you are passionate about programming and to constantly improve your skills. Furthermore, in many companies, recruiters will strongly prefer candidates that can show examples of such work on their public Git profiles. And finally, working on such projects can be very fun!\n",
        "\n",
        "<br>\n",
        "\n",
        "## Project description\n",
        "\n",
        "First, brainstorm what program you want to build. You may want to think about solving a problem that either you or someone else has. Remember that you can make use of various libraries and APIs to build very powerful programs. The complexity of the project should be roughly similar to that of the graded project in the previous sprint. \n",
        "\n",
        "If you have an idea that really interests you but which seems too big and complicated for this project, you can also try to build a minimalistic part of it. Ideally, it would still work and do at least a part of what the final program would do. Such minimal versions of projects are usually called MVPs – Minimum Viable Products.\n",
        "\n",
        "We recommend spending a significant amount of time in this brainstorming phase (so the total time for this project will be more than that of the previous project). You can also consult other learners, JTLs and STLs on whether the scope of your idea is realistic for this project. The idea that you choose and how well you manage to put yourself in the role of the end-user will be evaluated as well.\n",
        "\n",
        "Once you are happy with your idea, create an initial architecture plan for it. E.g. you can use pseudocode, diagrams, use-case descriptions or anything else that helps you. You can also create a list of tasks for yourself to complete (which you would then expand once you start working on the code). If you decide to use OOP, try thinking about what classes you will use and what their responsibilities will be. It does not need to be perfect – expect to find flaws and a need to update the architecture later. However, a plan like this will make the whole task much easier to approach. \n",
        "\n",
        "Once you are happy with your initial plan, start working on the project. It might be useful to double-check what you have learned in this module regularly to ensure that you are using efficient tools and techniques for the problems that you are solving. \n",
        "\n",
        "Also, since the code you will be writing for this project will be very different from that of other learners, the general rule of not sharing any pieces of code with other learners who have not yet completed this project does not apply. You can discuss your code with learners who are also working on this task and share feedback with each other. However, make sure that you are capable of reasonably explaining the logic behind your code during your corrections. \n",
        "\n",
        "<br>\n",
        "\n",
        "## Reviewer role\n",
        "Different projects may require you to structure your presentation in different ways based on the imagined role of the reviewer. The goal is to practice interacting with different stakeholders that a developer will likely encounter in their careers.\n",
        "\n",
        "In this project, imagine that you are presenting your personal project to a developer friend outside your organization.\n",
        "\n",
        "<br>\n",
        "\n",
        "## Project evaluation criteria\n",
        "- The idea and implementation of the project is well-justified. It is possible to see why it could be useful to have a program like this.\n",
        "- The program is easy and convenient to use\n",
        "- The code is organized and well-structured\n",
        "- Ability to read and explain the code during the correction.\n",
        "- General understanding of topics from module 1.\n",
        "- The quality of the project is high enough to be usable as a public portfolio item\n",
        "\n",
        "During a task review, you may get asked questions that test your understanding of covered topics.\n",
        "\n",
        "**Sample questions for a reviewer to ask (a reviewer is encouraged and expected to think of more, however!)**\n",
        "\n",
        "\n",
        "- Assume that you are working with a programming language that requires you to do all the searching and sorting yourself (i.e. with loops and conditional statements). In your program, you have a large list of unsorted items (which are sortable). In which cases (or maybe all of them?) would it be worth sorting the list before searching it?\n",
        "\n",
        "<br>\n",
        "\n",
        "# Submission \n",
        "\n",
        "Submit your files to the GitHub repository of this project. \n",
        "\n",
        "Read an in-depth guide about corrections here: https://turingcollege.atlassian.net/wiki/spaces/DLG/pages/537395951/Peer+expert+reviews+corrections\n",
        "\n",
        "<br>\n",
        "\n",
        "**Estimate average time to complete: 35 hours**\n"
      ],
      "metadata": {
        "id": "TacGbgWPccGY"
      }
    }
  ]
}